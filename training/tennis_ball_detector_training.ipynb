{
 "cells": [
  {
   "cell_type": "code",
   "execution_count": 26,
   "id": "initial_id",
   "metadata": {
    "collapsed": true,
    "ExecuteTime": {
     "end_time": "2024-07-23T07:41:43.144236Z",
     "start_time": "2024-07-23T07:41:41.835116Z"
    }
   },
   "outputs": [
    {
     "name": "stdout",
     "output_type": "stream",
     "text": [
      "Requirement already satisfied: roboflow in /Users/iasror/Thetis/pythonProject1/.venv/lib/python3.8/site-packages (1.1.36)\r\n",
      "Requirement already satisfied: certifi in /Users/iasror/Thetis/pythonProject1/.venv/lib/python3.8/site-packages (from roboflow) (2024.6.2)\r\n",
      "Requirement already satisfied: chardet==4.0.0 in /Users/iasror/Thetis/pythonProject1/.venv/lib/python3.8/site-packages (from roboflow) (4.0.0)\r\n",
      "Requirement already satisfied: idna==3.7 in /Users/iasror/Thetis/pythonProject1/.venv/lib/python3.8/site-packages (from roboflow) (3.7)\r\n",
      "Requirement already satisfied: cycler in /Users/iasror/Thetis/pythonProject1/.venv/lib/python3.8/site-packages (from roboflow) (0.12.1)\r\n",
      "Requirement already satisfied: kiwisolver>=1.3.1 in /Users/iasror/Thetis/pythonProject1/.venv/lib/python3.8/site-packages (from roboflow) (1.4.5)\r\n",
      "Requirement already satisfied: matplotlib in /Users/iasror/Thetis/pythonProject1/.venv/lib/python3.8/site-packages (from roboflow) (3.7.5)\r\n",
      "Requirement already satisfied: numpy>=1.18.5 in /Users/iasror/Thetis/pythonProject1/.venv/lib/python3.8/site-packages (from roboflow) (1.24.4)\r\n",
      "Requirement already satisfied: opencv-python-headless==4.10.0.84 in /Users/iasror/Thetis/pythonProject1/.venv/lib/python3.8/site-packages (from roboflow) (4.10.0.84)\r\n",
      "Requirement already satisfied: Pillow>=7.1.2 in /Users/iasror/Thetis/pythonProject1/.venv/lib/python3.8/site-packages (from roboflow) (10.3.0)\r\n",
      "Requirement already satisfied: python-dateutil in /Users/iasror/Thetis/pythonProject1/.venv/lib/python3.8/site-packages (from roboflow) (2.9.0.post0)\r\n",
      "Requirement already satisfied: python-dotenv in /Users/iasror/Thetis/pythonProject1/.venv/lib/python3.8/site-packages (from roboflow) (1.0.1)\r\n",
      "Requirement already satisfied: requests in /Users/iasror/Thetis/pythonProject1/.venv/lib/python3.8/site-packages (from roboflow) (2.32.3)\r\n",
      "Requirement already satisfied: six in /Users/iasror/Thetis/pythonProject1/.venv/lib/python3.8/site-packages (from roboflow) (1.16.0)\r\n",
      "Requirement already satisfied: urllib3>=1.26.6 in /Users/iasror/Thetis/pythonProject1/.venv/lib/python3.8/site-packages (from roboflow) (2.2.2)\r\n",
      "Requirement already satisfied: tqdm>=4.41.0 in /Users/iasror/Thetis/pythonProject1/.venv/lib/python3.8/site-packages (from roboflow) (4.66.4)\r\n",
      "Requirement already satisfied: PyYAML>=5.3.1 in /Users/iasror/Thetis/pythonProject1/.venv/lib/python3.8/site-packages (from roboflow) (6.0.1)\r\n",
      "Requirement already satisfied: requests-toolbelt in /Users/iasror/Thetis/pythonProject1/.venv/lib/python3.8/site-packages (from roboflow) (1.0.0)\r\n",
      "Requirement already satisfied: filetype in /Users/iasror/Thetis/pythonProject1/.venv/lib/python3.8/site-packages (from roboflow) (1.2.0)\r\n",
      "Requirement already satisfied: contourpy>=1.0.1 in /Users/iasror/Thetis/pythonProject1/.venv/lib/python3.8/site-packages (from matplotlib->roboflow) (1.1.1)\r\n",
      "Requirement already satisfied: fonttools>=4.22.0 in /Users/iasror/Thetis/pythonProject1/.venv/lib/python3.8/site-packages (from matplotlib->roboflow) (4.53.0)\r\n",
      "Requirement already satisfied: packaging>=20.0 in /Users/iasror/Thetis/pythonProject1/.venv/lib/python3.8/site-packages (from matplotlib->roboflow) (24.1)\r\n",
      "Requirement already satisfied: pyparsing>=2.3.1 in /Users/iasror/Thetis/pythonProject1/.venv/lib/python3.8/site-packages (from matplotlib->roboflow) (3.1.2)\r\n",
      "Requirement already satisfied: importlib-resources>=3.2.0 in /Users/iasror/Thetis/pythonProject1/.venv/lib/python3.8/site-packages (from matplotlib->roboflow) (6.4.0)\r\n",
      "Requirement already satisfied: charset-normalizer<4,>=2 in /Users/iasror/Thetis/pythonProject1/.venv/lib/python3.8/site-packages (from requests->roboflow) (3.3.2)\r\n",
      "Requirement already satisfied: zipp>=3.1.0 in /Users/iasror/Thetis/pythonProject1/.venv/lib/python3.8/site-packages (from importlib-resources>=3.2.0->matplotlib->roboflow) (3.19.2)\r\n",
      "Requirement already satisfied: ultralytics in /Users/iasror/Thetis/pythonProject1/.venv/lib/python3.8/site-packages (8.2.48)\r\n",
      "Requirement already satisfied: numpy<2.0.0,>=1.23.0 in /Users/iasror/Thetis/pythonProject1/.venv/lib/python3.8/site-packages (from ultralytics) (1.24.4)\r\n",
      "Requirement already satisfied: matplotlib>=3.3.0 in /Users/iasror/Thetis/pythonProject1/.venv/lib/python3.8/site-packages (from ultralytics) (3.7.5)\r\n",
      "Requirement already satisfied: opencv-python>=4.6.0 in /Users/iasror/Thetis/pythonProject1/.venv/lib/python3.8/site-packages (from ultralytics) (4.10.0.84)\r\n",
      "Requirement already satisfied: pillow>=7.1.2 in /Users/iasror/Thetis/pythonProject1/.venv/lib/python3.8/site-packages (from ultralytics) (10.3.0)\r\n",
      "Requirement already satisfied: pyyaml>=5.3.1 in /Users/iasror/Thetis/pythonProject1/.venv/lib/python3.8/site-packages (from ultralytics) (6.0.1)\r\n",
      "Requirement already satisfied: requests>=2.23.0 in /Users/iasror/Thetis/pythonProject1/.venv/lib/python3.8/site-packages (from ultralytics) (2.32.3)\r\n",
      "Requirement already satisfied: scipy>=1.4.1 in /Users/iasror/Thetis/pythonProject1/.venv/lib/python3.8/site-packages (from ultralytics) (1.10.1)\r\n",
      "Requirement already satisfied: torch>=1.8.0 in /Users/iasror/Thetis/pythonProject1/.venv/lib/python3.8/site-packages (from ultralytics) (2.3.1)\r\n",
      "Requirement already satisfied: torchvision>=0.9.0 in /Users/iasror/Thetis/pythonProject1/.venv/lib/python3.8/site-packages (from ultralytics) (0.18.1)\r\n",
      "Requirement already satisfied: tqdm>=4.64.0 in /Users/iasror/Thetis/pythonProject1/.venv/lib/python3.8/site-packages (from ultralytics) (4.66.4)\r\n",
      "Requirement already satisfied: psutil in /Users/iasror/Thetis/pythonProject1/.venv/lib/python3.8/site-packages (from ultralytics) (6.0.0)\r\n",
      "Requirement already satisfied: py-cpuinfo in /Users/iasror/Thetis/pythonProject1/.venv/lib/python3.8/site-packages (from ultralytics) (9.0.0)\r\n",
      "Requirement already satisfied: pandas>=1.1.4 in /Users/iasror/Thetis/pythonProject1/.venv/lib/python3.8/site-packages (from ultralytics) (2.0.3)\r\n",
      "Requirement already satisfied: seaborn>=0.11.0 in /Users/iasror/Thetis/pythonProject1/.venv/lib/python3.8/site-packages (from ultralytics) (0.13.2)\r\n",
      "Requirement already satisfied: ultralytics-thop>=2.0.0 in /Users/iasror/Thetis/pythonProject1/.venv/lib/python3.8/site-packages (from ultralytics) (2.0.0)\r\n",
      "Requirement already satisfied: contourpy>=1.0.1 in /Users/iasror/Thetis/pythonProject1/.venv/lib/python3.8/site-packages (from matplotlib>=3.3.0->ultralytics) (1.1.1)\r\n",
      "Requirement already satisfied: cycler>=0.10 in /Users/iasror/Thetis/pythonProject1/.venv/lib/python3.8/site-packages (from matplotlib>=3.3.0->ultralytics) (0.12.1)\r\n",
      "Requirement already satisfied: fonttools>=4.22.0 in /Users/iasror/Thetis/pythonProject1/.venv/lib/python3.8/site-packages (from matplotlib>=3.3.0->ultralytics) (4.53.0)\r\n",
      "Requirement already satisfied: kiwisolver>=1.0.1 in /Users/iasror/Thetis/pythonProject1/.venv/lib/python3.8/site-packages (from matplotlib>=3.3.0->ultralytics) (1.4.5)\r\n",
      "Requirement already satisfied: packaging>=20.0 in /Users/iasror/Thetis/pythonProject1/.venv/lib/python3.8/site-packages (from matplotlib>=3.3.0->ultralytics) (24.1)\r\n",
      "Requirement already satisfied: pyparsing>=2.3.1 in /Users/iasror/Thetis/pythonProject1/.venv/lib/python3.8/site-packages (from matplotlib>=3.3.0->ultralytics) (3.1.2)\r\n",
      "Requirement already satisfied: python-dateutil>=2.7 in /Users/iasror/Thetis/pythonProject1/.venv/lib/python3.8/site-packages (from matplotlib>=3.3.0->ultralytics) (2.9.0.post0)\r\n",
      "Requirement already satisfied: importlib-resources>=3.2.0 in /Users/iasror/Thetis/pythonProject1/.venv/lib/python3.8/site-packages (from matplotlib>=3.3.0->ultralytics) (6.4.0)\r\n",
      "Requirement already satisfied: pytz>=2020.1 in /Users/iasror/Thetis/pythonProject1/.venv/lib/python3.8/site-packages (from pandas>=1.1.4->ultralytics) (2024.1)\r\n",
      "Requirement already satisfied: tzdata>=2022.1 in /Users/iasror/Thetis/pythonProject1/.venv/lib/python3.8/site-packages (from pandas>=1.1.4->ultralytics) (2024.1)\r\n",
      "Requirement already satisfied: charset-normalizer<4,>=2 in /Users/iasror/Thetis/pythonProject1/.venv/lib/python3.8/site-packages (from requests>=2.23.0->ultralytics) (3.3.2)\r\n",
      "Requirement already satisfied: idna<4,>=2.5 in /Users/iasror/Thetis/pythonProject1/.venv/lib/python3.8/site-packages (from requests>=2.23.0->ultralytics) (3.7)\r\n",
      "Requirement already satisfied: urllib3<3,>=1.21.1 in /Users/iasror/Thetis/pythonProject1/.venv/lib/python3.8/site-packages (from requests>=2.23.0->ultralytics) (2.2.2)\r\n",
      "Requirement already satisfied: certifi>=2017.4.17 in /Users/iasror/Thetis/pythonProject1/.venv/lib/python3.8/site-packages (from requests>=2.23.0->ultralytics) (2024.6.2)\r\n",
      "Requirement already satisfied: filelock in /Users/iasror/Thetis/pythonProject1/.venv/lib/python3.8/site-packages (from torch>=1.8.0->ultralytics) (3.15.4)\r\n",
      "Requirement already satisfied: typing-extensions>=4.8.0 in /Users/iasror/Thetis/pythonProject1/.venv/lib/python3.8/site-packages (from torch>=1.8.0->ultralytics) (4.12.2)\r\n",
      "Requirement already satisfied: sympy in /Users/iasror/Thetis/pythonProject1/.venv/lib/python3.8/site-packages (from torch>=1.8.0->ultralytics) (1.12.1)\r\n",
      "Requirement already satisfied: networkx in /Users/iasror/Thetis/pythonProject1/.venv/lib/python3.8/site-packages (from torch>=1.8.0->ultralytics) (3.1)\r\n",
      "Requirement already satisfied: jinja2 in /Users/iasror/Thetis/pythonProject1/.venv/lib/python3.8/site-packages (from torch>=1.8.0->ultralytics) (3.1.4)\r\n",
      "Requirement already satisfied: fsspec in /Users/iasror/Thetis/pythonProject1/.venv/lib/python3.8/site-packages (from torch>=1.8.0->ultralytics) (2024.6.1)\r\n",
      "Requirement already satisfied: zipp>=3.1.0 in /Users/iasror/Thetis/pythonProject1/.venv/lib/python3.8/site-packages (from importlib-resources>=3.2.0->matplotlib>=3.3.0->ultralytics) (3.19.2)\r\n",
      "Requirement already satisfied: six>=1.5 in /Users/iasror/Thetis/pythonProject1/.venv/lib/python3.8/site-packages (from python-dateutil>=2.7->matplotlib>=3.3.0->ultralytics) (1.16.0)\r\n",
      "Requirement already satisfied: MarkupSafe>=2.0 in /Users/iasror/Thetis/pythonProject1/.venv/lib/python3.8/site-packages (from jinja2->torch>=1.8.0->ultralytics) (2.1.5)\r\n",
      "Requirement already satisfied: mpmath<1.4.0,>=1.1.0 in /Users/iasror/Thetis/pythonProject1/.venv/lib/python3.8/site-packages (from sympy->torch>=1.8.0->ultralytics) (1.3.0)\r\n"
     ]
    }
   ],
   "source": [
    "!pip install roboflow\n",
    "!pip install ultralytics"
   ]
  },
  {
   "cell_type": "code",
   "outputs": [
    {
     "name": "stdout",
     "output_type": "stream",
     "text": [
      "loading Roboflow workspace...\n",
      "loading Roboflow project...\n"
     ]
    }
   ],
   "source": [
    "#Get Dataset\n",
    "\n",
    "\n",
    "from roboflow import Roboflow\n",
    "rf = Roboflow(api_key=\"FJ8NCmnUpa8UrlRMMIbT\")\n",
    "project = rf.workspace(\"viren-dhanwani\").project(\"tennis-ball-detection\")\n",
    "version = project.version(6)\n",
    "dataset = version.download(\"yolov5\")\n"
   ],
   "metadata": {
    "collapsed": false,
    "ExecuteTime": {
     "end_time": "2024-07-23T07:41:49.262282Z",
     "start_time": "2024-07-23T07:41:46.925823Z"
    }
   },
   "id": "17d7e7a3ad1854fa",
   "execution_count": 27
  },
  {
   "cell_type": "code",
   "outputs": [],
   "source": [
    "import shutil"
   ],
   "metadata": {
    "collapsed": false,
    "ExecuteTime": {
     "end_time": "2024-07-23T07:42:28.140071Z",
     "start_time": "2024-07-23T07:42:28.136470Z"
    }
   },
   "id": "a598fb88ee679e13",
   "execution_count": 28
  },
  {
   "cell_type": "code",
   "outputs": [
    {
     "ename": "FileNotFoundError",
     "evalue": "[Errno 2] No such file or directory: 'tennis-ball-detection-6/train'",
     "output_type": "error",
     "traceback": [
      "\u001B[0;31m---------------------------------------------------------------------------\u001B[0m",
      "\u001B[0;31mFileNotFoundError\u001B[0m                         Traceback (most recent call last)",
      "File \u001B[0;32m/Library/Frameworks/Python.framework/Versions/3.8/lib/python3.8/shutil.py:791\u001B[0m, in \u001B[0;36mmove\u001B[0;34m(src, dst, copy_function)\u001B[0m\n\u001B[1;32m    790\u001B[0m \u001B[38;5;28;01mtry\u001B[39;00m:\n\u001B[0;32m--> 791\u001B[0m     \u001B[43mos\u001B[49m\u001B[38;5;241;43m.\u001B[39;49m\u001B[43mrename\u001B[49m\u001B[43m(\u001B[49m\u001B[43msrc\u001B[49m\u001B[43m,\u001B[49m\u001B[43m \u001B[49m\u001B[43mreal_dst\u001B[49m\u001B[43m)\u001B[49m\n\u001B[1;32m    792\u001B[0m \u001B[38;5;28;01mexcept\u001B[39;00m \u001B[38;5;167;01mOSError\u001B[39;00m:\n",
      "\u001B[0;31mFileNotFoundError\u001B[0m: [Errno 2] No such file or directory: 'tennis-ball-detection-6/train' -> 'tennis-ball-detection-6/tennis-ball-detection-6/train/train'",
      "\nDuring handling of the above exception, another exception occurred:\n",
      "\u001B[0;31mFileNotFoundError\u001B[0m                         Traceback (most recent call last)",
      "Cell \u001B[0;32mIn[29], line 1\u001B[0m\n\u001B[0;32m----> 1\u001B[0m \u001B[43mshutil\u001B[49m\u001B[38;5;241;43m.\u001B[39;49m\u001B[43mmove\u001B[49m\u001B[43m(\u001B[49m\u001B[38;5;124;43m\"\u001B[39;49m\u001B[38;5;124;43mtennis-ball-detection-6/train\u001B[39;49m\u001B[38;5;124;43m\"\u001B[39;49m\u001B[43m,\u001B[49m\n\u001B[1;32m      2\u001B[0m \u001B[38;5;124;43m\"\u001B[39;49m\u001B[38;5;124;43mtennis-ball-detection-6/tennis-ball-detection-6/train\u001B[39;49m\u001B[38;5;124;43m\"\u001B[39;49m\u001B[43m,\u001B[49m\n\u001B[1;32m      3\u001B[0m \u001B[43m)\u001B[49m\n\u001B[1;32m      4\u001B[0m shutil\u001B[38;5;241m.\u001B[39mmove(\u001B[38;5;124m\"\u001B[39m\u001B[38;5;124mtennis-ball-detection-6/test\u001B[39m\u001B[38;5;124m\"\u001B[39m,\n\u001B[1;32m      5\u001B[0m \u001B[38;5;124m\"\u001B[39m\u001B[38;5;124mtennis-ball-detection-6/tennis-ball-detection-6/test\u001B[39m\u001B[38;5;124m\"\u001B[39m,\n\u001B[1;32m      6\u001B[0m )\n\u001B[1;32m      7\u001B[0m shutil\u001B[38;5;241m.\u001B[39mmove(\u001B[38;5;124m\"\u001B[39m\u001B[38;5;124mtennis-ball-detection-6/valid\u001B[39m\u001B[38;5;124m\"\u001B[39m,\n\u001B[1;32m      8\u001B[0m \u001B[38;5;124m\"\u001B[39m\u001B[38;5;124mtennis-ball-detection-6/tennis-ball-detection-6/valid\u001B[39m\u001B[38;5;124m\"\u001B[39m,\n\u001B[1;32m      9\u001B[0m )\n",
      "File \u001B[0;32m/Library/Frameworks/Python.framework/Versions/3.8/lib/python3.8/shutil.py:811\u001B[0m, in \u001B[0;36mmove\u001B[0;34m(src, dst, copy_function)\u001B[0m\n\u001B[1;32m    809\u001B[0m         rmtree(src)\n\u001B[1;32m    810\u001B[0m     \u001B[38;5;28;01melse\u001B[39;00m:\n\u001B[0;32m--> 811\u001B[0m         \u001B[43mcopy_function\u001B[49m\u001B[43m(\u001B[49m\u001B[43msrc\u001B[49m\u001B[43m,\u001B[49m\u001B[43m \u001B[49m\u001B[43mreal_dst\u001B[49m\u001B[43m)\u001B[49m\n\u001B[1;32m    812\u001B[0m         os\u001B[38;5;241m.\u001B[39munlink(src)\n\u001B[1;32m    813\u001B[0m \u001B[38;5;28;01mreturn\u001B[39;00m real_dst\n",
      "File \u001B[0;32m/Library/Frameworks/Python.framework/Versions/3.8/lib/python3.8/shutil.py:435\u001B[0m, in \u001B[0;36mcopy2\u001B[0;34m(src, dst, follow_symlinks)\u001B[0m\n\u001B[1;32m    433\u001B[0m \u001B[38;5;28;01mif\u001B[39;00m os\u001B[38;5;241m.\u001B[39mpath\u001B[38;5;241m.\u001B[39misdir(dst):\n\u001B[1;32m    434\u001B[0m     dst \u001B[38;5;241m=\u001B[39m os\u001B[38;5;241m.\u001B[39mpath\u001B[38;5;241m.\u001B[39mjoin(dst, os\u001B[38;5;241m.\u001B[39mpath\u001B[38;5;241m.\u001B[39mbasename(src))\n\u001B[0;32m--> 435\u001B[0m \u001B[43mcopyfile\u001B[49m\u001B[43m(\u001B[49m\u001B[43msrc\u001B[49m\u001B[43m,\u001B[49m\u001B[43m \u001B[49m\u001B[43mdst\u001B[49m\u001B[43m,\u001B[49m\u001B[43m \u001B[49m\u001B[43mfollow_symlinks\u001B[49m\u001B[38;5;241;43m=\u001B[39;49m\u001B[43mfollow_symlinks\u001B[49m\u001B[43m)\u001B[49m\n\u001B[1;32m    436\u001B[0m copystat(src, dst, follow_symlinks\u001B[38;5;241m=\u001B[39mfollow_symlinks)\n\u001B[1;32m    437\u001B[0m \u001B[38;5;28;01mreturn\u001B[39;00m dst\n",
      "File \u001B[0;32m/Library/Frameworks/Python.framework/Versions/3.8/lib/python3.8/shutil.py:264\u001B[0m, in \u001B[0;36mcopyfile\u001B[0;34m(src, dst, follow_symlinks)\u001B[0m\n\u001B[1;32m    262\u001B[0m     os\u001B[38;5;241m.\u001B[39msymlink(os\u001B[38;5;241m.\u001B[39mreadlink(src), dst)\n\u001B[1;32m    263\u001B[0m \u001B[38;5;28;01melse\u001B[39;00m:\n\u001B[0;32m--> 264\u001B[0m     \u001B[38;5;28;01mwith\u001B[39;00m \u001B[38;5;28;43mopen\u001B[39;49m\u001B[43m(\u001B[49m\u001B[43msrc\u001B[49m\u001B[43m,\u001B[49m\u001B[43m \u001B[49m\u001B[38;5;124;43m'\u001B[39;49m\u001B[38;5;124;43mrb\u001B[39;49m\u001B[38;5;124;43m'\u001B[39;49m\u001B[43m)\u001B[49m \u001B[38;5;28;01mas\u001B[39;00m fsrc, \u001B[38;5;28mopen\u001B[39m(dst, \u001B[38;5;124m'\u001B[39m\u001B[38;5;124mwb\u001B[39m\u001B[38;5;124m'\u001B[39m) \u001B[38;5;28;01mas\u001B[39;00m fdst:\n\u001B[1;32m    265\u001B[0m         \u001B[38;5;66;03m# macOS\u001B[39;00m\n\u001B[1;32m    266\u001B[0m         \u001B[38;5;28;01mif\u001B[39;00m _HAS_FCOPYFILE:\n\u001B[1;32m    267\u001B[0m             \u001B[38;5;28;01mtry\u001B[39;00m:\n",
      "\u001B[0;31mFileNotFoundError\u001B[0m: [Errno 2] No such file or directory: 'tennis-ball-detection-6/train'"
     ]
    }
   ],
   "source": [
    "shutil.move(\"tennis-ball-detection-6/train\",\n",
    "\"tennis-ball-detection-6/tennis-ball-detection-6/train\",\n",
    ")\n",
    "shutil.move(\"tennis-ball-detection-6/test\",\n",
    "\"tennis-ball-detection-6/tennis-ball-detection-6/test\",\n",
    ")\n",
    "shutil.move(\"tennis-ball-detection-6/valid\",\n",
    "\"tennis-ball-detection-6/tennis-ball-detection-6/valid\",\n",
    ")"
   ],
   "metadata": {
    "collapsed": false,
    "ExecuteTime": {
     "end_time": "2024-07-23T07:42:29.178933Z",
     "start_time": "2024-07-23T07:42:29.126688Z"
    }
   },
   "id": "aac20b564eba89f5",
   "execution_count": 29
  },
  {
   "cell_type": "code",
   "outputs": [
    {
     "name": "stdout",
     "output_type": "stream",
     "text": [
      "Traceback (most recent call last):\r\n",
      "  File \"/Users/iasror/Thetis/pythonProject1/.venv/bin/yolo\", line 8, in <module>\r\n",
      "    sys.exit(entrypoint())\r\n",
      "  File \"/Users/iasror/Thetis/pythonProject1/.venv/lib/python3.8/site-packages/ultralytics/cfg/__init__.py\", line 564, in entrypoint\r\n",
      "    model = YOLO(model, task=task)\r\n",
      "  File \"/Users/iasror/Thetis/pythonProject1/.venv/lib/python3.8/site-packages/ultralytics/models/yolo/model.py\", line 23, in __init__\r\n",
      "    super().__init__(model=model, task=task, verbose=verbose)\r\n",
      "  File \"/Users/iasror/Thetis/pythonProject1/.venv/lib/python3.8/site-packages/ultralytics/engine/model.py\", line 149, in __init__\r\n",
      "    self._load(model, task=task)\r\n",
      "  File \"/Users/iasror/Thetis/pythonProject1/.venv/lib/python3.8/site-packages/ultralytics/engine/model.py\", line 230, in _load\r\n",
      "    self.model, self.ckpt = attempt_load_one_weight(weights)\r\n",
      "  File \"/Users/iasror/Thetis/pythonProject1/.venv/lib/python3.8/site-packages/ultralytics/nn/tasks.py\", line 855, in attempt_load_one_weight\r\n",
      "    ckpt, weight = torch_safe_load(weight)  # load ckpt\r\n",
      "  File \"/Users/iasror/Thetis/pythonProject1/.venv/lib/python3.8/site-packages/ultralytics/nn/tasks.py\", line 781, in torch_safe_load\r\n",
      "    ckpt = torch.load(file, map_location=\"cpu\")\r\n",
      "  File \"/Users/iasror/Thetis/pythonProject1/.venv/lib/python3.8/site-packages/torch/serialization.py\", line 997, in load\r\n",
      "    with _open_file_like(f, 'rb') as opened_file:\r\n",
      "  File \"/Users/iasror/Thetis/pythonProject1/.venv/lib/python3.8/site-packages/torch/serialization.py\", line 444, in _open_file_like\r\n",
      "    return _open_file(name_or_buffer, mode)\r\n",
      "  File \"/Users/iasror/Thetis/pythonProject1/.venv/lib/python3.8/site-packages/torch/serialization.py\", line 425, in __init__\r\n",
      "    super().__init__(open(name, mode))\r\n",
      "FileNotFoundError: [Errno 2] No such file or directory: 'yolov516u.pt'\r\n"
     ]
    }
   ],
   "source": [
    "!yolo task=detect mode=train model=yolov516u.pt data={dataset.location}/data.yaml epochs=100 imgsz=640"
   ],
   "metadata": {
    "collapsed": false,
    "ExecuteTime": {
     "end_time": "2024-07-23T07:34:37.065639Z",
     "start_time": "2024-07-23T07:34:33.719377Z"
    }
   },
   "id": "3e404a752c6b205d",
   "execution_count": 25
  },
  {
   "cell_type": "code",
   "outputs": [],
   "source": [],
   "metadata": {
    "collapsed": false
   },
   "id": "d58a2d1bcf617b1c"
  }
 ],
 "metadata": {
  "kernelspec": {
   "display_name": "Python 3",
   "language": "python",
   "name": "python3"
  },
  "language_info": {
   "codemirror_mode": {
    "name": "ipython",
    "version": 2
   },
   "file_extension": ".py",
   "mimetype": "text/x-python",
   "name": "python",
   "nbconvert_exporter": "python",
   "pygments_lexer": "ipython2",
   "version": "2.7.6"
  }
 },
 "nbformat": 4,
 "nbformat_minor": 5
}
